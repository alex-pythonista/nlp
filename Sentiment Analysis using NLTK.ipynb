{
 "cells": [
  {
   "cell_type": "code",
   "execution_count": 1,
   "id": "5e299c5b",
   "metadata": {},
   "outputs": [],
   "source": [
    "import nltk\n",
    "import random\n",
    "from nltk.classify.scikitlearn import SklearnClassifier\n",
    "import pickle\n",
    "from sklearn.naive_bayes import MultinomialNB, BernoulliNB\n",
    "from sklearn.linear_model import LogisticRegression, SGDClassifier\n",
    "from sklearn.svm import SVC, LinearSVC, NuSVC\n",
    "from nltk.classify import ClassifierI\n",
    "from statistics import mode\n",
    "from nltk import word_tokenize\n",
    "import re\n",
    "import os"
   ]
  },
  {
   "cell_type": "code",
   "execution_count": 2,
   "id": "2b59bfd7",
   "metadata": {},
   "outputs": [],
   "source": [
    "import pandas as pd\n",
    "\n",
    "data = pd.read_csv('datasets/IMDB-Dataset.csv')"
   ]
  },
  {
   "cell_type": "code",
   "execution_count": 3,
   "id": "4728a092",
   "metadata": {},
   "outputs": [
    {
     "data": {
      "text/plain": [
       "50000"
      ]
     },
     "execution_count": 3,
     "metadata": {},
     "output_type": "execute_result"
    }
   ],
   "source": [
    "data.head()\n",
    "len(data)"
   ]
  },
  {
   "cell_type": "code",
   "execution_count": 33,
   "id": "083143e4",
   "metadata": {},
   "outputs": [],
   "source": [
    "# positive reviews\n",
    "data_pos = data[data['sentiment']=='positive'][0:12500]"
   ]
  },
  {
   "cell_type": "code",
   "execution_count": 34,
   "id": "21b488dd",
   "metadata": {},
   "outputs": [],
   "source": [
    "data_neg = data[data['sentiment']=='negative'][0:12500]"
   ]
  },
  {
   "cell_type": "code",
   "execution_count": 35,
   "id": "8dad08a2",
   "metadata": {},
   "outputs": [
    {
     "data": {
      "text/plain": [
       "(12500, 12500)"
      ]
     },
     "execution_count": 35,
     "metadata": {},
     "output_type": "execute_result"
    }
   ],
   "source": [
    "len(data_pos), len(data_neg)"
   ]
  },
  {
   "cell_type": "code",
   "execution_count": 36,
   "id": "0e418dc8",
   "metadata": {},
   "outputs": [
    {
     "data": {
      "text/plain": [
       "(12500, 2)"
      ]
     },
     "execution_count": 36,
     "metadata": {},
     "output_type": "execute_result"
    }
   ],
   "source": [
    "data_pos.shape"
   ]
  },
  {
   "cell_type": "code",
   "execution_count": 37,
   "id": "fdf06d9e",
   "metadata": {},
   "outputs": [],
   "source": [
    "all_words = []\n",
    "documents = []\n",
    "\n",
    "from nltk.corpus import stopwords\n",
    "\n",
    "stop_words = list(set(stopwords.words('english')))\n",
    "\n",
    "# j is adjective, r is adverb, and v is verb\n",
    "# allowed_word_types = [\"J\", \"R\", \"V\"]\n",
    "allowed_word_types = [\"J\"]\n",
    "\n",
    "# this loop is for positive reviews\n",
    "for p in data_pos.iterrows():\n",
    "#     print()\n",
    "#   create a list of tuples where thr first element of each tuple is a review\n",
    "#   the second element is the label\n",
    "    documents.append((p[1][0], 'pos'))\n",
    "    \n",
    "#     print('hey')\n",
    "#   remove punctuations\n",
    "    cleaned = re.sub(r'[^(a-zA-Z)\\s]', '', p[1][0])\n",
    "    \n",
    "#   tokenize\n",
    "    tokenized = word_tokenize(cleaned)\n",
    "    \n",
    "#   remove stopwords\n",
    "    stopped = [w for w in tokenized if not w in stop_words]\n",
    "    \n",
    "#   pos_tagging for each word\n",
    "    pos = nltk.pos_tag(stopped)\n",
    "    \n",
    "#   make a list of all adjectives identified by the allowed word types list above\n",
    "    for w in pos:\n",
    "        if w[1][0] in allowed_word_types:\n",
    "            all_words.append(w[0].lower())\n"
   ]
  },
  {
   "cell_type": "code",
   "execution_count": 38,
   "id": "ed5c3488",
   "metadata": {},
   "outputs": [],
   "source": [
    "# for negative reviews\n",
    "for p in data_neg.iterrows():\n",
    "    documents.append((p[1][0], 'pos'))\n",
    "    cleaned = re.sub(r'[^(a-zA-Z)\\s]', '', p[1][0])\n",
    "    tokenized = word_tokenize(cleaned)\n",
    "    stopped = [w for w in tokenized if not w in stop_words]\n",
    "    pos = nltk.pos_tag(stopped)\n",
    "    for w in pos:\n",
    "        if w[1][0] in allowed_word_types:\n",
    "            all_words.append(w[0].lower())"
   ]
  },
  {
   "cell_type": "code",
   "execution_count": 39,
   "id": "601d10d7",
   "metadata": {},
   "outputs": [
    {
     "data": {
      "text/plain": [
       "29693"
      ]
     },
     "execution_count": 39,
     "metadata": {},
     "output_type": "execute_result"
    }
   ],
   "source": [
    "# creating a frequency distribution of each adjectives.\n",
    "all_words_freq = nltk.FreqDist(all_words)\n",
    "len(all_words_freq)"
   ]
  },
  {
   "cell_type": "code",
   "execution_count": 40,
   "id": "835564f6",
   "metadata": {},
   "outputs": [
    {
     "data": {
      "image/png": "[encoded data removed]",
      "text/plain": [
       "<Figure size 432x288 with 1 Axes>"
      ]
     },
     "metadata": {
      "needs_background": "light"
     },
     "output_type": "display_data"
    }
   ],
   "source": [
    "import matplotlib.pyplot as plt\n",
    "all_words_freq.plot(30, cumulative=False)\n",
    "plt.show()"
   ]
  },
  {
   "cell_type": "code",
   "execution_count": 41,
   "id": "0c5d7023",
   "metadata": {},
   "outputs": [],
   "source": [
    "word_features = list(all_words_freq.keys())\n",
    "# documents"
   ]
  },
  {
   "cell_type": "code",
   "execution_count": 42,
   "id": "f4f86b4c",
   "metadata": {},
   "outputs": [],
   "source": [
    "# words = word_tokenize(documents[0])"
   ]
  },
  {
   "cell_type": "code",
   "execution_count": null,
   "id": "552a4dca",
   "metadata": {},
   "outputs": [],
   "source": [
    "# function to create a disctionary of features for each review in the list document\n",
    "# the keys are the words in word_features\n",
    "# the values of each key are either True or False for wether that feature appears in the review or not\n",
    "\n",
    "def find_features(document):\n",
    "    words = word_tokenize(document)\n",
    "    features = {}\n",
    "    for w in word_features:\n",
    "        features[w] = (w in words)\n",
    "    return features\n",
    "\n",
    "# creating features for each review\n",
    "featuresets = [(find_features(rev), category) for (rev, category) in documents]\n",
    "\n",
    "# Shuffling the documents\n",
    "random.shuffle(featuresets)\n",
    "\n",
    "# training_set = featuresets[:800]\n",
    "# testing_set = featuresets[800:]"
   ]
  },
  {
   "cell_type": "code",
   "execution_count": 32,
   "id": "6700c32e",
   "metadata": {},
   "outputs": [
    {
     "name": "stdout",
     "output_type": "stream",
     "text": [
      "Classifier accuracy present: 100.0\n",
      "Most Informative Features\n"
     ]
    }
   ],
   "source": [
    "classifier = nltk.NaiveBayesClassifier.train(training_set)\n",
    "\n",
    "print(\"Classifier accuracy present:\", (nltk.classify.accuracy(classifier, testing_set))*100)\n",
    "\n",
    "print(classifier.most_informative_features(15))"
   ]
  },
  {
   "cell_type": "code",
   "execution_count": null,
   "id": "3d34e1f5",
   "metadata": {},
   "outputs": [],
   "source": []
  }
 ],
 "metadata": {
  "kernelspec": {
   "display_name": "Python 3 (ipykernel)",
   "language": "python",
   "name": "python3"
  },
  "language_info": {
   "codemirror_mode": {
    "name": "ipython",
    "version": 3
   },
   "file_extension": ".py",
   "mimetype": "text/x-python",
   "name": "python",
   "nbconvert_exporter": "python",
   "pygments_lexer": "ipython3",
   "version": "3.8.10"
  }
 },
 "nbformat": 4,
 "nbformat_minor": 5
}
