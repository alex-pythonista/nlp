{
 "cells": [
  {
   "cell_type": "code",
   "execution_count": 2,
   "id": "f9a4f48a",
   "metadata": {},
   "outputs": [],
   "source": [
    "import nltk\n",
    "import nltk.corpus"
   ]
  },
  {
   "cell_type": "code",
   "execution_count": 3,
   "id": "78f4dfdc",
   "metadata": {},
   "outputs": [],
   "source": [
    "# do this before importing word_tokenize\n",
    "# to avoid import error\n",
    "# sudo mv /usr/lib/python3.8/tokenize.py /usr/lib/python3.8/my_tokenize.py\n",
    "import tokenize"
   ]
  },
  {
   "cell_type": "code",
   "execution_count": 4,
   "id": "969efb71",
   "metadata": {},
   "outputs": [],
   "source": [
    "# string\n",
    "ml = \"Machine learning is the study of computer algorithms that can improve automatically through experience and by the use of data. It is seen as a part of artificial intelligence.\""
   ]
  },
  {
   "cell_type": "code",
   "execution_count": 6,
   "id": "50724492",
   "metadata": {},
   "outputs": [
    {
     "data": {
      "text/plain": [
       "['Machine',\n",
       " 'learning',\n",
       " 'is',\n",
       " 'the',\n",
       " 'study',\n",
       " 'of',\n",
       " 'computer',\n",
       " 'algorithms',\n",
       " 'that',\n",
       " 'can',\n",
       " 'improve',\n",
       " 'automatically',\n",
       " 'through',\n",
       " 'experience',\n",
       " 'and',\n",
       " 'by',\n",
       " 'the',\n",
       " 'use',\n",
       " 'of',\n",
       " 'data',\n",
       " '.',\n",
       " 'It',\n",
       " 'is',\n",
       " 'seen',\n",
       " 'as',\n",
       " 'a',\n",
       " 'part',\n",
       " 'of',\n",
       " 'artificial',\n",
       " 'intelligence',\n",
       " '.']"
      ]
     },
     "execution_count": 6,
     "metadata": {},
     "output_type": "execute_result"
    }
   ],
   "source": [
    "# tokenizing\n",
    "ml_tokens = nltk.word_tokenize(ml)\n",
    "ml_tokens"
   ]
  },
  {
   "cell_type": "code",
   "execution_count": 7,
   "id": "640de14c",
   "metadata": {},
   "outputs": [],
   "source": [
    "# frequency of tokens\n",
    "from nltk.probability import FreqDist\n",
    "fdist = FreqDist()"
   ]
  },
  {
   "cell_type": "code",
   "execution_count": 9,
   "id": "c927b33a",
   "metadata": {},
   "outputs": [
    {
     "data": {
      "text/plain": [
       "FreqDist({'of': 3, 'is': 2, 'the': 2, '.': 2, 'Machine': 1, 'learning': 1, 'study': 1, 'computer': 1, 'algorithms': 1, 'that': 1, ...})"
      ]
     },
     "execution_count": 9,
     "metadata": {},
     "output_type": "execute_result"
    }
   ],
   "source": [
    "for i in ml_tokens:\n",
    "    fdist[i] = fdist[i]+1\n",
    "fdist"
   ]
  },
  {
   "cell_type": "code",
   "execution_count": 10,
   "id": "77b7e1c4",
   "metadata": {},
   "outputs": [
    {
     "data": {
      "text/plain": [
       "[('of', 3), ('is', 2), ('the', 2), ('.', 2), ('Machine', 1)]"
      ]
     },
     "execution_count": 10,
     "metadata": {},
     "output_type": "execute_result"
    }
   ],
   "source": [
    "fdist.most_common(5)"
   ]
  },
  {
   "cell_type": "code",
   "execution_count": 16,
   "id": "d3f459e0",
   "metadata": {},
   "outputs": [
    {
     "data": {
      "text/plain": [
       "['Turing',\n",
       " 'proposed',\n",
       " 'that',\n",
       " 'a',\n",
       " 'computer',\n",
       " 'can',\n",
       " 'be',\n",
       " 'said',\n",
       " 'to',\n",
       " 'possess',\n",
       " 'artificial',\n",
       " 'intelligence',\n",
       " 'if',\n",
       " 'it',\n",
       " 'can',\n",
       " 'mimic',\n",
       " 'human',\n",
       " 'responses',\n",
       " 'under',\n",
       " 'specific',\n",
       " 'conditions',\n",
       " '.',\n",
       " 'The',\n",
       " 'original',\n",
       " 'Turing',\n",
       " 'Test',\n",
       " 'requires',\n",
       " 'three',\n",
       " 'terminals',\n",
       " ',',\n",
       " 'each',\n",
       " 'of',\n",
       " 'which',\n",
       " 'is',\n",
       " 'physically',\n",
       " 'separated',\n",
       " 'from',\n",
       " 'the',\n",
       " 'other',\n",
       " 'two',\n",
       " '.',\n",
       " 'One',\n",
       " 'terminal',\n",
       " 'is',\n",
       " 'operated',\n",
       " 'by',\n",
       " 'a',\n",
       " 'computer',\n",
       " ',',\n",
       " 'while',\n",
       " 'the',\n",
       " 'other',\n",
       " 'two',\n",
       " 'are',\n",
       " 'operated',\n",
       " 'by',\n",
       " 'humans',\n",
       " '.']"
      ]
     },
     "execution_count": 16,
     "metadata": {},
     "output_type": "execute_result"
    }
   ],
   "source": [
    "# bi-grams and tri-grams\n",
    "ai_definition = \"Turing proposed that a computer can be said to possess artificial intelligence if it can mimic human responses under specific conditions. The original Turing Test requires three terminals, each of which is physically separated from the other two. One terminal is operated by a computer, while the other two are operated by humans.\"\n",
    "ai_definition_token = nltk.word_tokenize(ai_definition)\n",
    "ai_definition_token"
   ]
  },
  {
   "cell_type": "code",
   "execution_count": 18,
   "id": "e30f815b",
   "metadata": {},
   "outputs": [
    {
     "data": {
      "text/plain": [
       "[('Turing', 'proposed'),\n",
       " ('proposed', 'that'),\n",
       " ('that', 'a'),\n",
       " ('a', 'computer'),\n",
       " ('computer', 'can'),\n",
       " ('can', 'be'),\n",
       " ('be', 'said'),\n",
       " ('said', 'to'),\n",
       " ('to', 'possess'),\n",
       " ('possess', 'artificial'),\n",
       " ('artificial', 'intelligence'),\n",
       " ('intelligence', 'if'),\n",
       " ('if', 'it'),\n",
       " ('it', 'can'),\n",
       " ('can', 'mimic'),\n",
       " ('mimic', 'human'),\n",
       " ('human', 'responses'),\n",
       " ('responses', 'under'),\n",
       " ('under', 'specific'),\n",
       " ('specific', 'conditions'),\n",
       " ('conditions', '.'),\n",
       " ('.', 'The'),\n",
       " ('The', 'original'),\n",
       " ('original', 'Turing'),\n",
       " ('Turing', 'Test'),\n",
       " ('Test', 'requires'),\n",
       " ('requires', 'three'),\n",
       " ('three', 'terminals'),\n",
       " ('terminals', ','),\n",
       " (',', 'each'),\n",
       " ('each', 'of'),\n",
       " ('of', 'which'),\n",
       " ('which', 'is'),\n",
       " ('is', 'physically'),\n",
       " ('physically', 'separated'),\n",
       " ('separated', 'from'),\n",
       " ('from', 'the'),\n",
       " ('the', 'other'),\n",
       " ('other', 'two'),\n",
       " ('two', '.'),\n",
       " ('.', 'One'),\n",
       " ('One', 'terminal'),\n",
       " ('terminal', 'is'),\n",
       " ('is', 'operated'),\n",
       " ('operated', 'by'),\n",
       " ('by', 'a'),\n",
       " ('a', 'computer'),\n",
       " ('computer', ','),\n",
       " (',', 'while'),\n",
       " ('while', 'the'),\n",
       " ('the', 'other'),\n",
       " ('other', 'two'),\n",
       " ('two', 'are'),\n",
       " ('are', 'operated'),\n",
       " ('operated', 'by'),\n",
       " ('by', 'humans'),\n",
       " ('humans', '.')]"
      ]
     },
     "execution_count": 18,
     "metadata": {},
     "output_type": "execute_result"
    }
   ],
   "source": [
    "list(nltk.bigrams(ai_definition_token))"
   ]
  },
  {
   "cell_type": "code",
   "execution_count": 19,
   "id": "a5f8d8e6",
   "metadata": {},
   "outputs": [
    {
     "data": {
      "text/plain": [
       "[('Turing', 'proposed', 'that'),\n",
       " ('proposed', 'that', 'a'),\n",
       " ('that', 'a', 'computer'),\n",
       " ('a', 'computer', 'can'),\n",
       " ('computer', 'can', 'be'),\n",
       " ('can', 'be', 'said'),\n",
       " ('be', 'said', 'to'),\n",
       " ('said', 'to', 'possess'),\n",
       " ('to', 'possess', 'artificial'),\n",
       " ('possess', 'artificial', 'intelligence'),\n",
       " ('artificial', 'intelligence', 'if'),\n",
       " ('intelligence', 'if', 'it'),\n",
       " ('if', 'it', 'can'),\n",
       " ('it', 'can', 'mimic'),\n",
       " ('can', 'mimic', 'human'),\n",
       " ('mimic', 'human', 'responses'),\n",
       " ('human', 'responses', 'under'),\n",
       " ('responses', 'under', 'specific'),\n",
       " ('under', 'specific', 'conditions'),\n",
       " ('specific', 'conditions', '.'),\n",
       " ('conditions', '.', 'The'),\n",
       " ('.', 'The', 'original'),\n",
       " ('The', 'original', 'Turing'),\n",
       " ('original', 'Turing', 'Test'),\n",
       " ('Turing', 'Test', 'requires'),\n",
       " ('Test', 'requires', 'three'),\n",
       " ('requires', 'three', 'terminals'),\n",
       " ('three', 'terminals', ','),\n",
       " ('terminals', ',', 'each'),\n",
       " (',', 'each', 'of'),\n",
       " ('each', 'of', 'which'),\n",
       " ('of', 'which', 'is'),\n",
       " ('which', 'is', 'physically'),\n",
       " ('is', 'physically', 'separated'),\n",
       " ('physically', 'separated', 'from'),\n",
       " ('separated', 'from', 'the'),\n",
       " ('from', 'the', 'other'),\n",
       " ('the', 'other', 'two'),\n",
       " ('other', 'two', '.'),\n",
       " ('two', '.', 'One'),\n",
       " ('.', 'One', 'terminal'),\n",
       " ('One', 'terminal', 'is'),\n",
       " ('terminal', 'is', 'operated'),\n",
       " ('is', 'operated', 'by'),\n",
       " ('operated', 'by', 'a'),\n",
       " ('by', 'a', 'computer'),\n",
       " ('a', 'computer', ','),\n",
       " ('computer', ',', 'while'),\n",
       " (',', 'while', 'the'),\n",
       " ('while', 'the', 'other'),\n",
       " ('the', 'other', 'two'),\n",
       " ('other', 'two', 'are'),\n",
       " ('two', 'are', 'operated'),\n",
       " ('are', 'operated', 'by'),\n",
       " ('operated', 'by', 'humans'),\n",
       " ('by', 'humans', '.')]"
      ]
     },
     "execution_count": 19,
     "metadata": {},
     "output_type": "execute_result"
    }
   ],
   "source": [
    "list(nltk.trigrams(ai_definition_token))"
   ]
  },
  {
   "cell_type": "code",
   "execution_count": 20,
   "id": "c8aa9f26",
   "metadata": {},
   "outputs": [
    {
     "data": {
      "text/plain": [
       "[('Turing', 'proposed', 'that', 'a', 'computer'),\n",
       " ('proposed', 'that', 'a', 'computer', 'can'),\n",
       " ('that', 'a', 'computer', 'can', 'be'),\n",
       " ('a', 'computer', 'can', 'be', 'said'),\n",
       " ('computer', 'can', 'be', 'said', 'to'),\n",
       " ('can', 'be', 'said', 'to', 'possess'),\n",
       " ('be', 'said', 'to', 'possess', 'artificial'),\n",
       " ('said', 'to', 'possess', 'artificial', 'intelligence'),\n",
       " ('to', 'possess', 'artificial', 'intelligence', 'if'),\n",
       " ('possess', 'artificial', 'intelligence', 'if', 'it'),\n",
       " ('artificial', 'intelligence', 'if', 'it', 'can'),\n",
       " ('intelligence', 'if', 'it', 'can', 'mimic'),\n",
       " ('if', 'it', 'can', 'mimic', 'human'),\n",
       " ('it', 'can', 'mimic', 'human', 'responses'),\n",
       " ('can', 'mimic', 'human', 'responses', 'under'),\n",
       " ('mimic', 'human', 'responses', 'under', 'specific'),\n",
       " ('human', 'responses', 'under', 'specific', 'conditions'),\n",
       " ('responses', 'under', 'specific', 'conditions', '.'),\n",
       " ('under', 'specific', 'conditions', '.', 'The'),\n",
       " ('specific', 'conditions', '.', 'The', 'original'),\n",
       " ('conditions', '.', 'The', 'original', 'Turing'),\n",
       " ('.', 'The', 'original', 'Turing', 'Test'),\n",
       " ('The', 'original', 'Turing', 'Test', 'requires'),\n",
       " ('original', 'Turing', 'Test', 'requires', 'three'),\n",
       " ('Turing', 'Test', 'requires', 'three', 'terminals'),\n",
       " ('Test', 'requires', 'three', 'terminals', ','),\n",
       " ('requires', 'three', 'terminals', ',', 'each'),\n",
       " ('three', 'terminals', ',', 'each', 'of'),\n",
       " ('terminals', ',', 'each', 'of', 'which'),\n",
       " (',', 'each', 'of', 'which', 'is'),\n",
       " ('each', 'of', 'which', 'is', 'physically'),\n",
       " ('of', 'which', 'is', 'physically', 'separated'),\n",
       " ('which', 'is', 'physically', 'separated', 'from'),\n",
       " ('is', 'physically', 'separated', 'from', 'the'),\n",
       " ('physically', 'separated', 'from', 'the', 'other'),\n",
       " ('separated', 'from', 'the', 'other', 'two'),\n",
       " ('from', 'the', 'other', 'two', '.'),\n",
       " ('the', 'other', 'two', '.', 'One'),\n",
       " ('other', 'two', '.', 'One', 'terminal'),\n",
       " ('two', '.', 'One', 'terminal', 'is'),\n",
       " ('.', 'One', 'terminal', 'is', 'operated'),\n",
       " ('One', 'terminal', 'is', 'operated', 'by'),\n",
       " ('terminal', 'is', 'operated', 'by', 'a'),\n",
       " ('is', 'operated', 'by', 'a', 'computer'),\n",
       " ('operated', 'by', 'a', 'computer', ','),\n",
       " ('by', 'a', 'computer', ',', 'while'),\n",
       " ('a', 'computer', ',', 'while', 'the'),\n",
       " ('computer', ',', 'while', 'the', 'other'),\n",
       " (',', 'while', 'the', 'other', 'two'),\n",
       " ('while', 'the', 'other', 'two', 'are'),\n",
       " ('the', 'other', 'two', 'are', 'operated'),\n",
       " ('other', 'two', 'are', 'operated', 'by'),\n",
       " ('two', 'are', 'operated', 'by', 'humans'),\n",
       " ('are', 'operated', 'by', 'humans', '.')]"
      ]
     },
     "execution_count": 20,
     "metadata": {},
     "output_type": "execute_result"
    }
   ],
   "source": [
    "list(nltk.ngrams(ai_definition_token, 5))"
   ]
  },
  {
   "cell_type": "code",
   "execution_count": null,
   "id": "7c903c37",
   "metadata": {},
   "outputs": [],
   "source": []
  }
 ],
 "metadata": {
  "kernelspec": {
   "display_name": "Python 3 (ipykernel)",
   "language": "python",
   "name": "python3"
  },
  "language_info": {
   "codemirror_mode": {
    "name": "ipython",
    "version": 3
   },
   "file_extension": ".py",
   "mimetype": "text/x-python",
   "name": "python",
   "nbconvert_exporter": "python",
   "pygments_lexer": "ipython3",
   "version": "3.8.10"
  }
 },
 "nbformat": 4,
 "nbformat_minor": 5
}
