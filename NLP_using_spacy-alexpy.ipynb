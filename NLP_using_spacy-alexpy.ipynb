{
 "cells": [
  {
   "cell_type": "code",
   "execution_count": 2,
   "id": "2f779157",
   "metadata": {},
   "outputs": [],
   "source": [
    "import spacy\n",
    "nlp = spacy.load('en_core_web_sm')"
   ]
  },
  {
   "cell_type": "code",
   "execution_count": 4,
   "id": "3e7167d2",
   "metadata": {},
   "outputs": [],
   "source": [
    "doc = nlp('This is Sparta!!')"
   ]
  },
  {
   "cell_type": "code",
   "execution_count": 7,
   "id": "f44eb9b7",
   "metadata": {},
   "outputs": [
    {
     "name": "stdout",
     "output_type": "stream",
     "text": [
      "0 This\n",
      "1 is\n",
      "2 Sparta\n",
      "3 !\n",
      "4 !\n"
     ]
    }
   ],
   "source": [
    "# tokenization\n",
    "for token in doc:\n",
    "    print(token.i, token.text)"
   ]
  },
  {
   "cell_type": "code",
   "execution_count": 10,
   "id": "89f0c9fa",
   "metadata": {},
   "outputs": [
    {
     "data": {
      "text/plain": [
       "Sparta!!"
      ]
     },
     "execution_count": 10,
     "metadata": {},
     "output_type": "execute_result"
    }
   ],
   "source": [
    "span = doc[2:5]\n",
    "span"
   ]
  },
  {
   "cell_type": "code",
   "execution_count": 12,
   "id": "161dc2cb",
   "metadata": {},
   "outputs": [
    {
     "name": "stdout",
     "output_type": "stream",
     "text": [
      "0 Joey PROPN\n",
      "1 does AUX\n",
      "2 n't PART\n",
      "3 share VERB\n",
      "4 Pizza PROPN\n",
      "5 ! PUNCT\n",
      "6 ! PUNCT\n"
     ]
    }
   ],
   "source": [
    "# tokenizing and pos tagging\n",
    "doc = nlp(\"Joey doesn't share Pizza!!\")\n",
    "\n",
    "for token in doc:\n",
    "    print(token.i, token.text, token.pos_)"
   ]
  },
  {
   "cell_type": "code",
   "execution_count": 13,
   "id": "aa2f7c0e",
   "metadata": {},
   "outputs": [],
   "source": [
    "# ner\n",
    "doc = nlp('Alex works at Programming-Hero with a 200K$ LPA package in Dhaka')"
   ]
  },
  {
   "cell_type": "code",
   "execution_count": 17,
   "id": "b8ebe4e8",
   "metadata": {},
   "outputs": [
    {
     "name": "stdout",
     "output_type": "stream",
     "text": [
      "Programming-Hero --- ORG\n",
      "200K$ --- CARDINAL\n",
      "LPA --- ORG\n",
      "Dhaka --- GPE\n"
     ]
    }
   ],
   "source": [
    "for entity in doc.ents:\n",
    "    print(entity.text + \" --- \" + entity.label_)"
   ]
  },
  {
   "cell_type": "code",
   "execution_count": 18,
   "id": "64233574",
   "metadata": {},
   "outputs": [],
   "source": [
    "# Matcher\n",
    "from spacy.matcher import Matcher"
   ]
  },
  {
   "cell_type": "code",
   "execution_count": 19,
   "id": "022e828f",
   "metadata": {},
   "outputs": [],
   "source": [
    "doc = nlp('Barak Obama the former president of United States will be vacating white house today')"
   ]
  },
  {
   "cell_type": "code",
   "execution_count": 22,
   "id": "b0243ea7",
   "metadata": {},
   "outputs": [],
   "source": [
    "pattern = [{'LEMMA': 'vacate'}, {'ORTH': 'white'}]\n",
    "matcher = Matcher(nlp.vocab)\n",
    "matcher.add('white_Pattern', [pattern])\n",
    "matches = matcher(doc)"
   ]
  },
  {
   "cell_type": "code",
   "execution_count": 24,
   "id": "5400ee2a",
   "metadata": {},
   "outputs": [
    {
     "name": "stdout",
     "output_type": "stream",
     "text": [
      "vacating white\n"
     ]
    }
   ],
   "source": [
    "for match_id, start, end in matches:\n",
    "    matched_span = doc[start:end]\n",
    "    print(matched_span.text)"
   ]
  },
  {
   "cell_type": "code",
   "execution_count": null,
   "id": "c69939c2",
   "metadata": {},
   "outputs": [],
   "source": []
  }
 ],
 "metadata": {
  "kernelspec": {
   "display_name": "Python 3 (ipykernel)",
   "language": "python",
   "name": "python3"
  },
  "language_info": {
   "codemirror_mode": {
    "name": "ipython",
    "version": 3
   },
   "file_extension": ".py",
   "mimetype": "text/x-python",
   "name": "python",
   "nbconvert_exporter": "python",
   "pygments_lexer": "ipython3",
   "version": "3.8.10"
  }
 },
 "nbformat": 4,
 "nbformat_minor": 5
}
